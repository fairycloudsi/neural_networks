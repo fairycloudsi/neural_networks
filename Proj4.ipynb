{
 "cells": [
  {
   "cell_type": "markdown",
   "metadata": {},
   "source": [
    "# Project 4 Sparsification \n",
    "This is a jupter notebook to implement project 4 in math 296. The project uses 2 layers neural networks to do classification of mnist. We add the implementation of Relaxed Variables Splitting Methods here to see how the sparsification will changes the accuracy.   "
   ]
  },
  {
   "cell_type": "code",
   "execution_count": 1,
   "metadata": {},
   "outputs": [],
   "source": [
    "from datetime import datetime \n",
    "\n",
    "now = datetime.utcnow().strftime(\"%Y%m%d%H%M%S\")\n",
    "root_logdir = \"tf_logs\"\n",
    "logdir = \"{}/run-{}/\".format(root_logdir, now)"
   ]
  },
  {
   "cell_type": "code",
   "execution_count": 2,
   "metadata": {},
   "outputs": [],
   "source": [
    "import matplotlib.pyplot as plt\n",
    "import numpy as np"
   ]
  },
  {
   "cell_type": "code",
   "execution_count": 3,
   "metadata": {},
   "outputs": [
    {
     "name": "stdout",
     "output_type": "stream",
     "text": [
      "WARNING:tensorflow:From <ipython-input-3-ac47fb0fbf25>:6: read_data_sets (from tensorflow.contrib.learn.python.learn.datasets.mnist) is deprecated and will be removed in a future version.\n",
      "Instructions for updating:\n",
      "Please use alternatives such as official/mnist/dataset.py from tensorflow/models.\n",
      "WARNING:tensorflow:From /home/sophia/.local/lib/python3.6/site-packages/tensorflow/contrib/learn/python/learn/datasets/mnist.py:260: maybe_download (from tensorflow.contrib.learn.python.learn.datasets.base) is deprecated and will be removed in a future version.\n",
      "Instructions for updating:\n",
      "Please write your own downloading logic.\n",
      "WARNING:tensorflow:From /home/sophia/.local/lib/python3.6/site-packages/tensorflow/contrib/learn/python/learn/datasets/mnist.py:262: extract_images (from tensorflow.contrib.learn.python.learn.datasets.mnist) is deprecated and will be removed in a future version.\n",
      "Instructions for updating:\n",
      "Please use tf.data to implement this functionality.\n",
      "Extracting /tmp/data/train-images-idx3-ubyte.gz\n",
      "WARNING:tensorflow:From /home/sophia/.local/lib/python3.6/site-packages/tensorflow/contrib/learn/python/learn/datasets/mnist.py:267: extract_labels (from tensorflow.contrib.learn.python.learn.datasets.mnist) is deprecated and will be removed in a future version.\n",
      "Instructions for updating:\n",
      "Please use tf.data to implement this functionality.\n",
      "Extracting /tmp/data/train-labels-idx1-ubyte.gz\n",
      "WARNING:tensorflow:From /home/sophia/.local/lib/python3.6/site-packages/tensorflow/contrib/learn/python/learn/datasets/mnist.py:110: dense_to_one_hot (from tensorflow.contrib.learn.python.learn.datasets.mnist) is deprecated and will be removed in a future version.\n",
      "Instructions for updating:\n",
      "Please use tf.one_hot on tensors.\n",
      "Extracting /tmp/data/t10k-images-idx3-ubyte.gz\n",
      "Extracting /tmp/data/t10k-labels-idx1-ubyte.gz\n",
      "WARNING:tensorflow:From /home/sophia/.local/lib/python3.6/site-packages/tensorflow/contrib/learn/python/learn/datasets/mnist.py:290: DataSet.__init__ (from tensorflow.contrib.learn.python.learn.datasets.mnist) is deprecated and will be removed in a future version.\n",
      "Instructions for updating:\n",
      "Please use alternatives such as official/mnist/dataset.py from tensorflow/models.\n"
     ]
    }
   ],
   "source": [
    "from __future__ import division, print_function, absolute_import\n",
    "import tensorflow as tf \n",
    "\n",
    "# Import MNIST data \n",
    "from tensorflow.examples.tutorials.mnist import input_data \n",
    "mnist = input_data.read_data_sets(\"/tmp/data\", one_hot = True)"
   ]
  },
  {
   "cell_type": "code",
   "execution_count": 4,
   "metadata": {},
   "outputs": [],
   "source": [
    "tf.reset_default_graph()"
   ]
  },
  {
   "cell_type": "code",
   "execution_count": 5,
   "metadata": {},
   "outputs": [],
   "source": [
    "\n",
    "# Training Parameters \n",
    "learning_rate = 0.001\n",
    "beta = 0.1\n",
    "lamda = 0.005\n",
    "gamma = lamda/beta\n",
    "num_steps = 550\n",
    "batch_size = 128\n",
    "display_step = 10\n",
    "thres = tf.math.sqrt(2*gamma)\n",
    "\n",
    "# Network Parameters \n",
    "num_input = 784 #MNIST data input \n",
    "num_classes = 10 # MNIST total classes (0-9 digits)\n",
    "dropout = 0.75 # Dropout, probability to keep units \n",
    "\n",
    "# tf Graph input \n",
    "X = tf.placeholder(tf.float32, [None, num_input])\n",
    "Y = tf.placeholder(tf.float32, [None, num_classes])\n",
    "keep_prob = tf.placeholder(tf.float32) # dropout (keep probability)"
   ]
  },
  {
   "cell_type": "code",
   "execution_count": 35,
   "metadata": {},
   "outputs": [],
   "source": [
    "# Create some wrappers for simplicity \n",
    "def conv2d(x, W, b, strides=1):\n",
    "    # Conv2D wrapper, with bias and relu activation \n",
    "    x = tf.nn.conv2d(x, W, strides = [1, strides, strides, 1], padding='SAME')\n",
    "    x = tf.nn.bias_add(x,b)\n",
    "    return tf.nn.relu(x)\n",
    "\n",
    "def maxpool2d(x, k=2):\n",
    "    # MaxPool2D wrapper \n",
    "    return tf.nn.max_pool(x, ksize=[1,k,k,1], strides=[1,k,k,1],\n",
    "                         padding = 'SAME')\n",
    "\n",
    "# Create model\n",
    "def conv_net(x, weights, biases, dropout):\n",
    "    # MNIST data input is a 1-D vector of 784 features \n",
    "    # Reshape to match picture format [Height x Width x Channel]\n",
    "    # Tensor input become 4-D: [Batch Size, Height, Width, Channel]\n",
    "    x = tf.reshape(x, shape=[-1, 28, 28, 1])\n",
    "    \n",
    "    # Convolution Layer \n",
    "    conv1 = conv2d(x, weights['wc1'], biases['bc1'])\n",
    "    # Max Pooling (down-sampling)\n",
    "    conv1 = maxpool2d(conv1, k=2)\n",
    "    \n",
    "    # Convolution Layer \n",
    "    conv2 = conv2d(conv1, weights['wc2'], biases['bc2'])\n",
    "    # Max Pooling (down-sampling)\n",
    "    conv2 = maxpool2d(conv2, k=2)\n",
    "    \n",
    "    # Fully Connected Layer \n",
    "    # Reshape conv2 output to fit fully connected layer input \n",
    "    fc1 = tf.reshape(conv2, [-1, weights['wd1'].get_shape().as_list()[0]])\n",
    "    fc1 = tf.add(tf.matmul(fc1, weights['wd1']), biases['bd1'])\n",
    "    fc1 = tf.nn.relu(fc1)\n",
    "    # Apply Dropout \n",
    "    fc1 = tf.nn.dropout(fc1, dropout)\n",
    "    fc1 = tf.math.l2_normalize(fc1)\n",
    "    \n",
    "    # Output, class predictin \n",
    "    out = tf.add(tf.matmul(fc1, weights['out']), biases['out'])\n",
    "    \n",
    "    return out "
   ]
  },
  {
   "cell_type": "code",
   "execution_count": 7,
   "metadata": {},
   "outputs": [],
   "source": [
    "def tf_hard_threshold(x):\n",
    "    condition = tf.less(tf.abs(x), thres)\n",
    "    u = tf.where(condition, tf.zeros_like(x), x)\n",
    "    return u"
   ]
  },
  {
   "cell_type": "markdown",
   "metadata": {},
   "source": [
    "##  2 Layer Neural Networks without Relaxed Variable Splitting "
   ]
  },
  {
   "cell_type": "code",
   "execution_count": 8,
   "metadata": {},
   "outputs": [
    {
     "name": "stdout",
     "output_type": "stream",
     "text": [
      "WARNING:tensorflow:From /home/sophia/.local/lib/python3.6/site-packages/tensorflow/python/framework/op_def_library.py:263: colocate_with (from tensorflow.python.framework.ops) is deprecated and will be removed in a future version.\n",
      "Instructions for updating:\n",
      "Colocations handled automatically by placer.\n",
      "WARNING:tensorflow:From <ipython-input-6-2faefd328231>:36: calling dropout (from tensorflow.python.ops.nn_ops) with keep_prob is deprecated and will be removed in a future version.\n",
      "Instructions for updating:\n",
      "Please use `rate` instead of `keep_prob`. Rate should be set to `rate = 1 - keep_prob`.\n",
      "WARNING:tensorflow:From <ipython-input-8-34f53e0daba5>:27: softmax_cross_entropy_with_logits (from tensorflow.python.ops.nn_ops) is deprecated and will be removed in a future version.\n",
      "Instructions for updating:\n",
      "\n",
      "Future major versions of TensorFlow will allow gradients to flow\n",
      "into the labels input on backprop by default.\n",
      "\n",
      "See `tf.nn.softmax_cross_entropy_with_logits_v2`.\n",
      "\n"
     ]
    }
   ],
   "source": [
    "# Store layers weight & bias \n",
    "weights = {\n",
    "    # 5x5 conv, 1 input, 32 outputs \n",
    "    'wc1': tf.Variable(tf.random_normal([5, 5, 1, 32]), name = \"wc1\"),\n",
    "    # 5 x5 conv, 32 inputs, 64 outputs \n",
    "    'wc2': tf.Variable(tf.random_normal([5, 5, 32, 64]), name = \"wc2\"),\n",
    "    # fully connected, 7*7*64 inputs, 1024 outputs \n",
    "    'wd1': tf.Variable(tf.random_normal([7*7*64, 1024]), name = \"wd1\"),\n",
    "    # 1024 inputs, 10 outputs (class prediction)\n",
    "    'out': tf.Variable(tf.random_normal([1024, num_classes]), name = \"wout\")\n",
    "}\n",
    "biases = {\n",
    "    'bc1': tf.Variable(tf.random_normal([32]), name = \"bc1\"),\n",
    "    'bc2': tf.Variable(tf.random_normal([64]), name = \"bc2\"),\n",
    "    'bd1': tf.Variable(tf.random_normal([1024]), name = \"bd1\"),\n",
    "    'out': tf.Variable(tf.random_normal([num_classes]), name = \"bout\")\n",
    "}\n",
    "\n",
    "bd = tf.print(biases['bd1'])\n",
    "\n",
    "# Construct model \n",
    "logits = conv_net(X, weights, biases, keep_prob)\n",
    "prediction = tf.nn.softmax(logits)\n",
    "\n",
    "# Define loss and optimizer \n",
    "loss_op = tf.reduce_mean(tf.nn.softmax_cross_entropy_with_logits(\n",
    "    logits = logits, labels= Y))\n",
    "\n",
    "tvars = tf.trainable_variables()\n",
    "grad = tf.gradients(loss_op, tvars)\n",
    "\n",
    "optimizer = tf.train.AdamOptimizer(learning_rate= learning_rate)\n",
    "\n",
    "train_op = optimizer.apply_gradients(zip(grad, tvars))\n",
    "\n",
    "# Evaluate mdel \n",
    "correct_pred = tf.equal(tf.argmax(prediction, 1), tf.argmax(Y,1))\n",
    "accuracy = tf.reduce_mean(tf.cast(correct_pred, tf.float32))\n",
    "\n",
    "# Initialize the variables (i.e. assign their default value)\n",
    "init = tf.global_variables_initializer()"
   ]
  },
  {
   "cell_type": "code",
   "execution_count": 9,
   "metadata": {},
   "outputs": [
    {
     "name": "stdout",
     "output_type": "stream",
     "text": [
      "Step 1, Minibatch Loss= 64660.1641, Training Accuracy=0.094\n",
      "Step 10, Minibatch Loss= 23745.6250, Training Accuracy=0.211\n",
      "Step 20, Minibatch Loss= 8267.0449, Training Accuracy=0.594\n",
      "Step 30, Minibatch Loss= 5117.6045, Training Accuracy=0.695\n",
      "Step 40, Minibatch Loss= 3195.0684, Training Accuracy=0.742\n",
      "Step 50, Minibatch Loss= 3019.5234, Training Accuracy=0.820\n",
      "Step 60, Minibatch Loss= 3013.1924, Training Accuracy=0.828\n",
      "Step 70, Minibatch Loss= 2425.7803, Training Accuracy=0.859\n",
      "Step 80, Minibatch Loss= 1423.0693, Training Accuracy=0.875\n",
      "Step 90, Minibatch Loss= 1453.7117, Training Accuracy=0.891\n",
      "Step 100, Minibatch Loss= 1969.5510, Training Accuracy=0.891\n",
      "Step 110, Minibatch Loss= 686.2379, Training Accuracy=0.906\n",
      "Step 120, Minibatch Loss= 2058.1938, Training Accuracy=0.891\n",
      "Step 130, Minibatch Loss= 1751.8101, Training Accuracy=0.867\n",
      "Step 140, Minibatch Loss= 956.0911, Training Accuracy=0.898\n",
      "Step 150, Minibatch Loss= 1173.3921, Training Accuracy=0.930\n",
      "Step 160, Minibatch Loss= 1269.5850, Training Accuracy=0.922\n",
      "Step 170, Minibatch Loss= 2134.1970, Training Accuracy=0.930\n",
      "Step 180, Minibatch Loss= 1719.5354, Training Accuracy=0.922\n",
      "Step 190, Minibatch Loss= 1330.4265, Training Accuracy=0.922\n",
      "Step 200, Minibatch Loss= 834.0640, Training Accuracy=0.922\n",
      "Step 210, Minibatch Loss= 836.5033, Training Accuracy=0.930\n",
      "Step 220, Minibatch Loss= 1912.7423, Training Accuracy=0.922\n",
      "Step 230, Minibatch Loss= 1241.2948, Training Accuracy=0.906\n",
      "Step 240, Minibatch Loss= 1327.3151, Training Accuracy=0.922\n",
      "Step 250, Minibatch Loss= 864.3948, Training Accuracy=0.938\n",
      "Step 260, Minibatch Loss= 1277.9424, Training Accuracy=0.906\n",
      "Step 270, Minibatch Loss= 1067.3979, Training Accuracy=0.922\n",
      "Step 280, Minibatch Loss= 1044.1428, Training Accuracy=0.914\n",
      "Step 290, Minibatch Loss= 385.9689, Training Accuracy=0.969\n",
      "Step 300, Minibatch Loss= 555.7202, Training Accuracy=0.945\n",
      "Step 310, Minibatch Loss= 1275.1531, Training Accuracy=0.906\n",
      "Step 320, Minibatch Loss= 641.4755, Training Accuracy=0.961\n",
      "Step 330, Minibatch Loss= 522.2081, Training Accuracy=0.969\n",
      "Step 340, Minibatch Loss= 576.7558, Training Accuracy=0.938\n",
      "Step 350, Minibatch Loss= 667.5223, Training Accuracy=0.938\n",
      "Step 360, Minibatch Loss= 613.9777, Training Accuracy=0.945\n",
      "Step 370, Minibatch Loss= 501.1116, Training Accuracy=0.938\n",
      "Step 380, Minibatch Loss= 874.7571, Training Accuracy=0.945\n",
      "Step 390, Minibatch Loss= 786.3157, Training Accuracy=0.922\n",
      "Step 400, Minibatch Loss= 891.8777, Training Accuracy=0.922\n",
      "Step 410, Minibatch Loss= 474.7351, Training Accuracy=0.969\n",
      "Step 420, Minibatch Loss= 93.7970, Training Accuracy=0.984\n",
      "Step 430, Minibatch Loss= 193.7180, Training Accuracy=0.977\n",
      "Step 440, Minibatch Loss= 257.5712, Training Accuracy=0.969\n",
      "Step 450, Minibatch Loss= 290.1497, Training Accuracy=0.953\n",
      "Step 460, Minibatch Loss= 564.2183, Training Accuracy=0.938\n",
      "Step 470, Minibatch Loss= 388.9218, Training Accuracy=0.945\n",
      "Step 480, Minibatch Loss= 335.8129, Training Accuracy=0.984\n",
      "Step 490, Minibatch Loss= 160.5059, Training Accuracy=0.961\n",
      "Step 500, Minibatch Loss= 449.9520, Training Accuracy=0.953\n",
      "Step 510, Minibatch Loss= 573.3455, Training Accuracy=0.984\n",
      "Step 520, Minibatch Loss= 110.8440, Training Accuracy=0.984\n",
      "Step 530, Minibatch Loss= 223.5477, Training Accuracy=0.953\n",
      "Step 540, Minibatch Loss= 384.1276, Training Accuracy=0.945\n",
      "Step 550, Minibatch Loss= 768.3971, Training Accuracy=0.961\n",
      "Optimization Finished!\n",
      "Testing Accuracy:  0.97265625\n"
     ]
    }
   ],
   "source": [
    "# Start training \n",
    "with tf.Session() as sess:\n",
    "    \n",
    "    \n",
    "    # Run the initializer \n",
    "    sess.run(init)\n",
    "    \n",
    "    for step in range(1, num_steps+1):\n",
    "        batch_x, batch_y = mnist.train.next_batch(batch_size)\n",
    "        # Run optimization op (backprop)\n",
    "        sess.run(train_op, feed_dict={X: batch_x, Y: batch_y, keep_prob: dropout})\n",
    "        if step% display_step == 0 or step == 1:\n",
    "            # Calculate batch loss and accuracy \n",
    "            loss, acc = sess.run([loss_op, accuracy], feed_dict={X:batch_x,\n",
    "                                                                 Y:batch_y,\n",
    "                                                                keep_prob: 1.0})\n",
    "            print(\"Step \"+ str(step) + \", Minibatch Loss= \" + \\\n",
    "                 \"{:.4f}\".format(loss) + \", Training Accuracy=\" + \\\n",
    "                 \"{:.3f}\".format(acc))\n",
    "    variable_dict = {}\n",
    "    for var in tf.trainable_variables():\n",
    "        variable_dict[var.name] = var.eval()\n",
    "\n",
    "    print(\"Optimization Finished!\")\n",
    "    \n",
    "    # Calculate accuracy for 265 MNIST test images \n",
    "    print(\"Testing Accuracy: \", \\\n",
    "         sess.run(accuracy, feed_dict={X: mnist.test.images[:256],\n",
    "                                       Y: mnist.test.labels[:256],\n",
    "                                       keep_prob: 1.0}))"
   ]
  },
  {
   "cell_type": "code",
   "execution_count": 10,
   "metadata": {},
   "outputs": [
    {
     "name": "stdout",
     "output_type": "stream",
     "text": [
      "wc1:0\n",
      "wc2:0\n",
      "wd1:0\n",
      "wout:0\n",
      "bc1:0\n",
      "bc2:0\n",
      "bd1:0\n",
      "bout:0\n"
     ]
    }
   ],
   "source": [
    "for key,val in variable_dict.items():\n",
    "    print (key)"
   ]
  },
  {
   "cell_type": "code",
   "execution_count": 11,
   "metadata": {},
   "outputs": [
    {
     "data": {
      "text/plain": [
       "(800, 1)"
      ]
     },
     "execution_count": 11,
     "metadata": {},
     "output_type": "execute_result"
    }
   ],
   "source": [
    "c_params_1 = variable_dict['wc1:0'].reshape(5*5*1*32,-1)\n",
    "c_params_1.shape"
   ]
  },
  {
   "cell_type": "code",
   "execution_count": 12,
   "metadata": {},
   "outputs": [
    {
     "data": {
      "image/png": "[encoded data removed]",
      "text/plain": [
       "<Figure size 800x600 with 1 Axes>"
      ]
     },
     "metadata": {
      "needs_background": "light"
     },
     "output_type": "display_data"
    }
   ],
   "source": [
    "fig = plt.figure(figsize=(4,3), dpi = 200)\n",
    "plt.hist(c_params_1,bins =40)\n",
    "plt.title('Distribution of Convolution Parameters Layer 1')\n",
    "plt.savefig(\"./images/Conv_dist_layer_1\")\n",
    "plt.show()"
   ]
  },
  {
   "cell_type": "code",
   "execution_count": 13,
   "metadata": {},
   "outputs": [
    {
     "data": {
      "text/plain": [
       "(51200, 1)"
      ]
     },
     "execution_count": 13,
     "metadata": {},
     "output_type": "execute_result"
    }
   ],
   "source": [
    "c_params_2 = variable_dict['wc2:0'].reshape(5*5*32*64,-1)\n",
    "c_params_2.shape"
   ]
  },
  {
   "cell_type": "code",
   "execution_count": 14,
   "metadata": {},
   "outputs": [
    {
     "data": {
      "image/png": "[encoded data removed]",
      "text/plain": [
       "<Figure size 800x600 with 1 Axes>"
      ]
     },
     "metadata": {
      "needs_background": "light"
     },
     "output_type": "display_data"
    }
   ],
   "source": [
    "fig = plt.figure(figsize=(4,3), dpi = 200)\n",
    "plt.hist(c_params_2,bins =40)\n",
    "plt.title('Distribution of Convolution Parameters Layer2')\n",
    "plt.savefig(\"./images/Conv_dist_layer_2\")\n",
    "plt.show()\n"
   ]
  },
  {
   "cell_type": "code",
   "execution_count": 15,
   "metadata": {},
   "outputs": [
    {
     "data": {
      "text/plain": [
       "(3211264, 1)"
      ]
     },
     "execution_count": 15,
     "metadata": {},
     "output_type": "execute_result"
    }
   ],
   "source": [
    "fc_params = variable_dict['wd1:0'].reshape(3136*1024,-1)\n",
    "fc_params.shape"
   ]
  },
  {
   "cell_type": "code",
   "execution_count": 16,
   "metadata": {},
   "outputs": [
    {
     "data": {
      "image/png": "[encoded data removed]",
      "text/plain": [
       "<Figure size 800x600 with 1 Axes>"
      ]
     },
     "metadata": {
      "needs_background": "light"
     },
     "output_type": "display_data"
    }
   ],
   "source": [
    "fig = plt.figure(figsize=(4,3), dpi = 200)\n",
    "plt.hist(fc_params,bins =100)\n",
    "plt.title('Distribution of Fully Connected Layer Parameters')\n",
    "plt.savefig(\"./images/fc_layer\")\n",
    "plt.show()"
   ]
  },
  {
   "cell_type": "markdown",
   "metadata": {},
   "source": [
    "## Total Size Changes in Conv Layer"
   ]
  },
  {
   "cell_type": "code",
   "execution_count": 17,
   "metadata": {},
   "outputs": [
    {
     "data": {
      "text/plain": [
       "(5, 5, 1, 32)"
      ]
     },
     "execution_count": 17,
     "metadata": {},
     "output_type": "execute_result"
    }
   ],
   "source": [
    "c_params_1 = variable_dict['wc1:0']\n",
    "c_params_1.shape"
   ]
  },
  {
   "cell_type": "code",
   "execution_count": 18,
   "metadata": {},
   "outputs": [],
   "source": [
    "c_params_1[:,:,0,1].shape\n",
    "count = np.zeros([1,32])"
   ]
  },
  {
   "cell_type": "code",
   "execution_count": 19,
   "metadata": {},
   "outputs": [],
   "source": [
    "for i in range(32):\n",
    "    conv_mat = c_params_1[:,:,0,i]\n",
    "    count_temp = 0\n",
    "    for j in range(5):\n",
    "        for k in range(4):\n",
    "            if conv_mat[j][k]*conv_mat[j][k+1] <= -10e-6:\n",
    "                count_temp += 1\n",
    "    count[0][i] = count_temp\n",
    "    "
   ]
  },
  {
   "cell_type": "code",
   "execution_count": 20,
   "metadata": {},
   "outputs": [
    {
     "name": "stdout",
     "output_type": "stream",
     "text": [
      "[[11.  8.  8.  9.  9.  8.  6. 13. 11. 10. 11.  9. 13.  9.  8.  7. 13.  7.\n",
      "  10. 12. 11.  8. 11.  5. 10. 12. 12. 12. 13.  9. 10. 12.]]\n"
     ]
    }
   ],
   "source": [
    "print(count)\n",
    "np.savetxt(\"count.csv\", count, fmt = '%d')"
   ]
  },
  {
   "cell_type": "code",
   "execution_count": 21,
   "metadata": {},
   "outputs": [
    {
     "data": {
      "text/plain": [
       "(5, 5, 32, 64)"
      ]
     },
     "execution_count": 21,
     "metadata": {},
     "output_type": "execute_result"
    }
   ],
   "source": [
    "c_params_2 = variable_dict['wc2:0']\n",
    "c_params_2.shape"
   ]
  },
  {
   "cell_type": "code",
   "execution_count": 22,
   "metadata": {},
   "outputs": [],
   "source": [
    "count_2 = np.zeros([32,64])"
   ]
  },
  {
   "cell_type": "code",
   "execution_count": 23,
   "metadata": {},
   "outputs": [],
   "source": [
    "for i in range(32):\n",
    "    for l in range(64):\n",
    "        conv_mat = c_params_2[:,:,i,l]\n",
    "        count_temp = 0\n",
    "        for j in range(5):\n",
    "            for k in range(4):\n",
    "                if conv_mat[j][k]*conv_mat[j][k+1] < - 10e-6:\n",
    "                    count_temp += 1\n",
    "        count_2[i][l] = count_temp\n",
    "    "
   ]
  },
  {
   "cell_type": "code",
   "execution_count": 24,
   "metadata": {},
   "outputs": [
    {
     "name": "stdout",
     "output_type": "stream",
     "text": [
      "[[ 7. 11. 10. ... 12. 16. 10.]\n",
      " [ 9.  8. 13. ...  8. 10. 11.]\n",
      " [13. 11. 12. ... 13.  9. 13.]\n",
      " ...\n",
      " [10.  9. 12. ... 12.  6. 12.]\n",
      " [13. 13. 11. ... 11.  9. 14.]\n",
      " [ 9. 10.  7. ...  8. 10. 14.]]\n"
     ]
    }
   ],
   "source": [
    "print(count_2)\n",
    "np.savetxt(\"count2.csv\", count_2, fmt = '%d')"
   ]
  },
  {
   "cell_type": "markdown",
   "metadata": {},
   "source": [
    "## 2 Layer Neural Networks with Relaxed Variables Splitting"
   ]
  },
  {
   "cell_type": "code",
   "execution_count": 82,
   "metadata": {},
   "outputs": [],
   "source": [
    "tf.reset_default_graph()"
   ]
  },
  {
   "cell_type": "code",
   "execution_count": 83,
   "metadata": {},
   "outputs": [],
   "source": [
    "# Training Parameters \n",
    "learning_rate = 0.001\n",
    "beta = 0.1\n",
    "lamda = 0.5\n",
    "gamma = lamda/beta\n",
    "num_steps = 500\n",
    "batch_size = 128\n",
    "display_step = 10\n",
    "thres = tf.math.sqrt(2*gamma)\n",
    "\n",
    "# Network Parameters \n",
    "num_input = 784 #MNIST data input \n",
    "num_classes = 10 # MNIST total classes (0-9 digits)\n",
    "dropout = 0.75 # Dropout, probability to keep units \n",
    "\n",
    "# tf Graph input \n",
    "X = tf.placeholder(tf.float32, [None, num_input])\n",
    "Y = tf.placeholder(tf.float32, [None, num_classes])\n",
    "keep_prob = tf.placeholder(tf.float32) # dropout (keep probability)"
   ]
  },
  {
   "cell_type": "code",
   "execution_count": 84,
   "metadata": {},
   "outputs": [],
   "source": [
    "def tf_hard_threshold(x):\n",
    "    condition = tf.less(tf.abs(x), thres)\n",
    "    u = tf.where(condition, tf.zeros_like(x), x)\n",
    "    return u"
   ]
  },
  {
   "cell_type": "code",
   "execution_count": 85,
   "metadata": {},
   "outputs": [],
   "source": [
    "# Store layers weight & bias \n",
    "weights = {\n",
    "    # 5x5 conv, 1 input, 32 outputs \n",
    "    'wc1': tf.Variable(tf.random_normal([5, 5, 1, 32]), name = \"wc1\"),\n",
    "    # 5 x5 conv, 32 inputs, 64 outputs \n",
    "    'wc2': tf.Variable(tf.random_normal([5, 5, 32, 64]), name = \"wc2\"),\n",
    "    # fully connected, 7*7*64 inputs, 1024 outputs \n",
    "    'wd1': tf.Variable(tf.random_normal([7*7*64, 1024]), name = \"wd1\"),\n",
    "    # 1024 inputs, 10 outputs (class prediction)\n",
    "    'out': tf.Variable(tf.random_normal([1024, num_classes]), name = \"wout\")\n",
    "}\n",
    "biases = {\n",
    "    'bc1': tf.Variable(tf.random_normal([32]), name = \"bc1\"),\n",
    "    'bc2': tf.Variable(tf.random_normal([64]), name = \"bc2\"),\n",
    "    'bd1': tf.Variable(tf.random_normal([1024]), name = \"bd1\"),\n",
    "    'out': tf.Variable(tf.random_normal([num_classes]), name = \"bout\")\n",
    "}\n",
    "\n",
    "bd = tf.print(biases['bd1'])\n",
    "\n",
    "# Construct model \n",
    "logits = conv_net(X, weights, biases, keep_prob)\n",
    "prediction = tf.nn.softmax(logits)\n",
    "\n",
    "# Define loss and optimizer \n",
    "loss_op = tf.reduce_mean(tf.nn.softmax_cross_entropy_with_logits(\n",
    "    logits = logits, labels= Y))\n",
    "\n",
    "tvars = tf.trainable_variables()\n",
    "grad = tf.gradients(loss_op, tvars)\n",
    "tuars2 = tf_hard_threshold(tvars[2])\n",
    "\n",
    "new_grad = grad[2] + beta*tf.subtract(tvars[2], tuars2)\n",
    "grad[2] = new_grad \n",
    "optimizer = tf.train.AdamOptimizer(learning_rate= learning_rate)\n",
    "\n",
    "train_op = optimizer.apply_gradients(zip(grad, tvars))\n",
    "\n",
    "# Evaluate mdel \n",
    "correct_pred = tf.equal(tf.argmax(prediction, 1), tf.argmax(Y,1))\n",
    "accuracy = tf.reduce_mean(tf.cast(correct_pred, tf.float32))\n",
    "\n",
    "# Initialize the variables (i.e. assign their default value)\n",
    "init = tf.global_variables_initializer()\n"
   ]
  },
  {
   "cell_type": "code",
   "execution_count": 86,
   "metadata": {},
   "outputs": [],
   "source": [
    "saver = tf.train.Saver()"
   ]
  },
  {
   "cell_type": "code",
   "execution_count": 87,
   "metadata": {},
   "outputs": [
    {
     "name": "stdout",
     "output_type": "stream",
     "text": [
      "Step 1, Minibatch Loss= 3.4828, Training Accuracy=0.055\n",
      "Step 10, Minibatch Loss= 3.2220, Training Accuracy=0.078\n",
      "Step 20, Minibatch Loss= 3.0934, Training Accuracy=0.109\n",
      "Step 30, Minibatch Loss= 3.0971, Training Accuracy=0.094\n",
      "Step 40, Minibatch Loss= 3.1188, Training Accuracy=0.117\n",
      "Step 50, Minibatch Loss= 2.9575, Training Accuracy=0.094\n",
      "Step 60, Minibatch Loss= 2.8917, Training Accuracy=0.141\n",
      "Step 70, Minibatch Loss= 2.8733, Training Accuracy=0.117\n",
      "Step 80, Minibatch Loss= 2.8815, Training Accuracy=0.070\n",
      "Step 90, Minibatch Loss= 2.7589, Training Accuracy=0.086\n",
      "Step 100, Minibatch Loss= 2.8822, Training Accuracy=0.078\n",
      "Step 110, Minibatch Loss= 2.7849, Training Accuracy=0.070\n",
      "Step 120, Minibatch Loss= 2.9570, Training Accuracy=0.047\n",
      "Step 130, Minibatch Loss= 2.6319, Training Accuracy=0.141\n",
      "Step 140, Minibatch Loss= 2.7333, Training Accuracy=0.086\n",
      "Step 150, Minibatch Loss= 2.6728, Training Accuracy=0.125\n",
      "Step 160, Minibatch Loss= 2.6655, Training Accuracy=0.117\n",
      "Step 170, Minibatch Loss= 2.6373, Training Accuracy=0.109\n",
      "Step 180, Minibatch Loss= 2.4481, Training Accuracy=0.156\n",
      "Step 190, Minibatch Loss= 2.5955, Training Accuracy=0.086\n",
      "Step 200, Minibatch Loss= 2.6109, Training Accuracy=0.086\n",
      "Step 210, Minibatch Loss= 2.3992, Training Accuracy=0.148\n",
      "Step 220, Minibatch Loss= 2.5834, Training Accuracy=0.062\n",
      "Step 230, Minibatch Loss= 2.4770, Training Accuracy=0.102\n",
      "Step 240, Minibatch Loss= 2.5025, Training Accuracy=0.086\n",
      "Step 250, Minibatch Loss= 2.4512, Training Accuracy=0.109\n",
      "Step 260, Minibatch Loss= 2.4053, Training Accuracy=0.086\n",
      "Step 270, Minibatch Loss= 2.4293, Training Accuracy=0.156\n",
      "Step 280, Minibatch Loss= 2.4676, Training Accuracy=0.109\n",
      "Step 290, Minibatch Loss= 2.3695, Training Accuracy=0.094\n",
      "Step 300, Minibatch Loss= 2.4032, Training Accuracy=0.117\n",
      "Step 310, Minibatch Loss= 2.3591, Training Accuracy=0.109\n",
      "Step 320, Minibatch Loss= 2.2365, Training Accuracy=0.102\n",
      "Step 330, Minibatch Loss= 2.2625, Training Accuracy=0.094\n",
      "Step 340, Minibatch Loss= 2.3245, Training Accuracy=0.117\n",
      "Step 350, Minibatch Loss= 2.2818, Training Accuracy=0.125\n",
      "Step 360, Minibatch Loss= 2.2440, Training Accuracy=0.086\n",
      "Step 370, Minibatch Loss= 2.4040, Training Accuracy=0.078\n",
      "Step 380, Minibatch Loss= 2.3268, Training Accuracy=0.094\n",
      "Step 390, Minibatch Loss= 2.2000, Training Accuracy=0.086\n",
      "Step 400, Minibatch Loss= 2.2478, Training Accuracy=0.086\n",
      "Step 410, Minibatch Loss= 2.1688, Training Accuracy=0.109\n",
      "Step 420, Minibatch Loss= 2.1321, Training Accuracy=0.125\n",
      "Step 430, Minibatch Loss= 2.0680, Training Accuracy=0.148\n",
      "Step 440, Minibatch Loss= 2.1504, Training Accuracy=0.117\n",
      "Step 450, Minibatch Loss= 2.1143, Training Accuracy=0.125\n",
      "Step 460, Minibatch Loss= 2.1587, Training Accuracy=0.078\n",
      "Step 470, Minibatch Loss= 2.0597, Training Accuracy=0.148\n",
      "Step 480, Minibatch Loss= 2.0134, Training Accuracy=0.148\n",
      "Step 490, Minibatch Loss= 2.1566, Training Accuracy=0.141\n",
      "Step 500, Minibatch Loss= 2.0671, Training Accuracy=0.141\n",
      "Optimization Finished!\n",
      "Testing Accuracy:  0.109375\n"
     ]
    }
   ],
   "source": [
    "# Start training \n",
    "with tf.Session() as sess:\n",
    "    \n",
    "    \n",
    "    # Run the initializer \n",
    "    sess.run(init)\n",
    "    \n",
    "    for step in range(1, num_steps+1):\n",
    "        batch_x, batch_y = mnist.train.next_batch(batch_size)\n",
    "        # Run optimization op (backprop)\n",
    "        sess.run(train_op, feed_dict={X: batch_x, Y: batch_y, keep_prob: dropout})\n",
    "        if step% display_step == 0 or step == 1:\n",
    "            # Calculate batch loss and accuracy \n",
    "            loss, acc = sess.run([loss_op, accuracy], feed_dict={X:batch_x,\n",
    "                                                                 Y:batch_y,\n",
    "                                                                keep_prob: 1.0})\n",
    "            print(\"Step \"+ str(step) + \", Minibatch Loss= \" + \\\n",
    "                 \"{:.4f}\".format(loss) + \", Training Accuracy=\" + \\\n",
    "                 \"{:.3f}\".format(acc))\n",
    "    variable_dict = {}\n",
    "    for var in tf.trainable_variables():\n",
    "        variable_dict[var.name] = var.eval()\n",
    "    save_path = saver.save(sess, \"2CNN_sparse_model_final.ckpt\")\n",
    "\n",
    "    print(\"Optimization Finished!\")\n",
    "    \n",
    "    # Calculate accuracy for 265 MNIST test images \n",
    "    print(\"Testing Accuracy: \", \\\n",
    "         sess.run(accuracy, feed_dict={X: mnist.test.images[:256],\n",
    "                                       Y: mnist.test.labels[:256],\n",
    "                                       keep_prob: 1.0}))"
   ]
  },
  {
   "cell_type": "code",
   "execution_count": 88,
   "metadata": {},
   "outputs": [
    {
     "name": "stdout",
     "output_type": "stream",
     "text": [
      "wc1:0\n",
      "wc2:0\n",
      "wd1:0\n",
      "wout:0\n",
      "bc1:0\n",
      "bc2:0\n",
      "bd1:0\n",
      "bout:0\n"
     ]
    }
   ],
   "source": [
    "for key,val in variable_dict.items():\n",
    "    print (key)"
   ]
  },
  {
   "cell_type": "code",
   "execution_count": 89,
   "metadata": {},
   "outputs": [
    {
     "data": {
      "image/png": "[encoded data removed]",
      "text/plain": [
       "<Figure size 1400x1200 with 1 Axes>"
      ]
     },
     "metadata": {
      "needs_background": "light"
     },
     "output_type": "display_data"
    }
   ],
   "source": [
    "fc_params = variable_dict['wd1:0'].reshape(3136*1024,-1)\n",
    "fig = plt.figure(figsize=(7,6), dpi = 200)\n",
    "plt.hist(fc_params,bins =100)\n",
    "plt.title('Distribution of Sparse Fully Connected Layer Parameters')\n",
    "plt.savefig(\"./images/fc_layer_sparse_05\")\n",
    "plt.show()"
   ]
  },
  {
   "cell_type": "code",
   "execution_count": 90,
   "metadata": {},
   "outputs": [
    {
     "data": {
      "text/plain": [
       "0.7903800497249681"
      ]
     },
     "execution_count": 90,
     "metadata": {},
     "output_type": "execute_result"
    }
   ],
   "source": [
    "np.count_nonzero(abs(fc_params)>10e-3)/len(fc_params)"
   ]
  },
  {
   "cell_type": "code",
   "execution_count": null,
   "metadata": {},
   "outputs": [],
   "source": []
  }
 ],
 "metadata": {
  "kernelspec": {
   "display_name": "Python 3",
   "language": "python",
   "name": "python3"
  },
  "language_info": {
   "codemirror_mode": {
    "name": "ipython",
    "version": 3
   },
   "file_extension": ".py",
   "mimetype": "text/x-python",
   "name": "python",
   "nbconvert_exporter": "python",
   "pygments_lexer": "ipython3",
   "version": "3.6.7"
  }
 },
 "nbformat": 4,
 "nbformat_minor": 2
}
