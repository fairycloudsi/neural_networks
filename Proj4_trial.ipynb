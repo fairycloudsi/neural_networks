{
 "cells": [
  {
   "cell_type": "code",
   "execution_count": 3,
   "metadata": {},
   "outputs": [],
   "source": [
    "from datetime import datetime \n",
    "\n",
    "now = datetime.utcnow().strftime(\"%Y%m%d%H%M%S\")\n",
    "root_logdir = \"tf_logs\"\n",
    "logdir = \"{}/run-{}/\".format(root_logdir, now)"
   ]
  },
  {
   "cell_type": "code",
   "execution_count": 4,
   "metadata": {},
   "outputs": [
    {
     "name": "stdout",
     "output_type": "stream",
     "text": [
      "Successfully downloaded train-images-idx3-ubyte.gz 9912422 bytes.\n",
      "WARNING:tensorflow:From /home/sophia/.local/lib/python3.6/site-packages/tensorflow/contrib/learn/python/learn/datasets/mnist.py:262: extract_images (from tensorflow.contrib.learn.python.learn.datasets.mnist) is deprecated and will be removed in a future version.\n",
      "Instructions for updating:\n",
      "Please use tf.data to implement this functionality.\n",
      "Extracting /tmp/data/train-images-idx3-ubyte.gz\n",
      "Successfully downloaded train-labels-idx1-ubyte.gz 28881 bytes.\n",
      "WARNING:tensorflow:From /home/sophia/.local/lib/python3.6/site-packages/tensorflow/contrib/learn/python/learn/datasets/mnist.py:267: extract_labels (from tensorflow.contrib.learn.python.learn.datasets.mnist) is deprecated and will be removed in a future version.\n",
      "Instructions for updating:\n",
      "Please use tf.data to implement this functionality.\n",
      "Extracting /tmp/data/train-labels-idx1-ubyte.gz\n",
      "WARNING:tensorflow:From /home/sophia/.local/lib/python3.6/site-packages/tensorflow/contrib/learn/python/learn/datasets/mnist.py:110: dense_to_one_hot (from tensorflow.contrib.learn.python.learn.datasets.mnist) is deprecated and will be removed in a future version.\n",
      "Instructions for updating:\n",
      "Please use tf.one_hot on tensors.\n",
      "Successfully downloaded t10k-images-idx3-ubyte.gz 1648877 bytes.\n",
      "Extracting /tmp/data/t10k-images-idx3-ubyte.gz\n",
      "Successfully downloaded t10k-labels-idx1-ubyte.gz 4542 bytes.\n",
      "Extracting /tmp/data/t10k-labels-idx1-ubyte.gz\n",
      "WARNING:tensorflow:From /home/sophia/.local/lib/python3.6/site-packages/tensorflow/contrib/learn/python/learn/datasets/mnist.py:290: DataSet.__init__ (from tensorflow.contrib.learn.python.learn.datasets.mnist) is deprecated and will be removed in a future version.\n",
      "Instructions for updating:\n",
      "Please use alternatives such as official/mnist/dataset.py from tensorflow/models.\n"
     ]
    }
   ],
   "source": [
    "from __future__ import division, print_function, absolute_import\n",
    "import tensorflow as tf \n",
    "\n",
    "# Import MNIST data \n",
    "from tensorflow.examples.tutorials.mnist import input_data \n",
    "mnist = input_data.read_data_sets(\"/tmp/data\", one_hot = True)"
   ]
  },
  {
   "cell_type": "code",
   "execution_count": 231,
   "metadata": {},
   "outputs": [],
   "source": [
    "tf.reset_default_graph()"
   ]
  },
  {
   "cell_type": "code",
   "execution_count": 232,
   "metadata": {},
   "outputs": [],
   "source": [
    "\n",
    "# Training Parameters \n",
    "learning_rate = 0.001\n",
    "beta = 0.1\n",
    "num_steps = 500\n",
    "batch_size = 128\n",
    "display_step = 10\n",
    "thres = tf.math.sqrt(2*0.0005)\n",
    "\n",
    "# Network Parameters \n",
    "num_input = 784 #MNIST data input \n",
    "num_classes = 10 # MNIST total classes (0-9 digits)\n",
    "dropout = 0.75 # Dropout, probability to keep units \n",
    "\n",
    "# tf Graph input \n",
    "X = tf.placeholder(tf.float32, [None, num_input])\n",
    "Y = tf.placeholder(tf.float32, [None, num_classes])\n",
    "keep_prob = tf.placeholder(tf.float32) # dropout (keep probability)"
   ]
  },
  {
   "cell_type": "code",
   "execution_count": 233,
   "metadata": {},
   "outputs": [],
   "source": [
    "# Create some wrappers for simplicity \n",
    "def conv2d(x, W, b, strides=1):\n",
    "    # Conv2D wrapper, with bias and relu activation \n",
    "    x = tf.nn.conv2d(x, W, strides = [1, strides, strides, 1], padding='SAME')\n",
    "    x = tf.nn.bias_add(x,b)\n",
    "    return tf.nn.relu(x)\n",
    "\n",
    "def maxpool2d(x, k=2):\n",
    "    # MaxPool2D wrapper \n",
    "    return tf.nn.max_pool(x, ksize=[1,k,k,1], strides=[1,k,k,1],\n",
    "                         padding = 'SAME')\n",
    "\n",
    "# Create model\n",
    "def conv_net(x, weights, biases, dropout):\n",
    "    # MNIST data input is a 1-D vector of 784 features \n",
    "    # Reshape to match picture format [Height x Width x Channel]\n",
    "    # Tensor input become 4-D: [Batch Size, Height, Width, Channel]\n",
    "    x = tf.reshape(x, shape=[-1, 28, 28, 1])\n",
    "    \n",
    "    # Convolution Layer \n",
    "    conv1 = conv2d(x, weights['wc1'], biases['bc1'])\n",
    "    # Max Pooling (down-sampling)\n",
    "    conv1 = maxpool2d(conv1, k=2)\n",
    "    \n",
    "    # Convolution Layer \n",
    "    conv2 = conv2d(conv1, weights['wc2'], biases['bc2'])\n",
    "    # Max Pooling (down-sampling)\n",
    "    conv2 = maxpool2d(conv2, k=2)\n",
    "    \n",
    "    # Fully Connected Layer \n",
    "    # Reshape conv2 output to fit fully connected layer input \n",
    "    fc1 = tf.reshape(conv2, [-1, weights['wd1'].get_shape().as_list()[0]])\n",
    "    fc1 = tf.add(tf.matmul(fc1, weights['wd1']), biases['bd1'])\n",
    "    fc1 = tf.nn.relu(fc1)\n",
    "    # Apply Dropout \n",
    "    fc1 = tf.nn.dropout(fc1, dropout)\n",
    "    \n",
    "    # Output, class predictin \n",
    "    out = tf.add(tf.matmul(fc1, weights['out']), biases['out'])\n",
    "    \n",
    "    return out "
   ]
  },
  {
   "cell_type": "code",
   "execution_count": 234,
   "metadata": {},
   "outputs": [],
   "source": [
    "def tf_hard_threshold(x):\n",
    "    condition = tf.less(tf.abs(x), thres)\n",
    "    u = tf.where(condition, tf.zeros_like(x), x)\n",
    "    return u"
   ]
  },
  {
   "cell_type": "code",
   "execution_count": 235,
   "metadata": {},
   "outputs": [],
   "source": [
    "# Store layers weight & bias \n",
    "weights = {\n",
    "    # 5x5 conv, 1 input, 32 outputs \n",
    "    'wc1': tf.Variable(tf.random_normal([5, 5, 1, 32]), name = \"wc1\"),\n",
    "    # 5 x5 conv, 32 inputs, 64 outputs \n",
    "    'wc2': tf.Variable(tf.random_normal([5, 5, 32, 64]), name = \"wc2\"),\n",
    "    # fully connected, 7*7*64 inputs, 1024 outputs \n",
    "    'wd1': tf.Variable(tf.random_normal([7*7*64, 1024]), name = \"wd1\"),\n",
    "    # 1024 inputs, 10 outputs (class prediction)\n",
    "    'out': tf.Variable(tf.random_normal([1024, num_classes]), name = \"wout\")\n",
    "}\n",
    "biases = {\n",
    "    'bc1': tf.Variable(tf.random_normal([32]), name = \"bc1\"),\n",
    "    'bc2': tf.Variable(tf.random_normal([64]), name = \"bc2\"),\n",
    "    'bd1': tf.Variable(tf.random_normal([1024]), name = \"bd1\"),\n",
    "    'out': tf.Variable(tf.random_normal([num_classes]), name = \"bout\")\n",
    "}\n",
    "\n",
    "bd = tf.print(biases['bd1'])\n",
    "\n",
    "# Construct model \n",
    "logits = conv_net(X, weights, biases, keep_prob)\n",
    "prediction = tf.nn.softmax(logits)\n",
    "\n",
    "# Define loss and optimizer \n",
    "loss_op = tf.reduce_mean(tf.nn.softmax_cross_entropy_with_logits(\n",
    "    logits = logits, labels= Y))\n",
    "\n",
    "tvars = tf.trainable_variables()\n",
    "#tuars = tvars\n",
    "tuars2 = tf_hard_threshold(tvars[2])\n",
    "\n",
    "\n",
    "grad = tf.gradients(loss_op, tvars)\n",
    "new_grad = grad[2] + beta*tf.subtract(tvars[2], tuars2)\n"
   ]
  },
  {
   "cell_type": "code",
   "execution_count": 260,
   "metadata": {},
   "outputs": [],
   "source": [
    "grad_2 = []\n",
    "for i in range(2):\n",
    "    grad_2.append(grad[i])\n",
    "grad_2.append(new_grad)\n",
    "for i in range(3,len(grad)):\n",
    "    grad_2.append(grad[i])"
   ]
  },
  {
   "cell_type": "code",
   "execution_count": 261,
   "metadata": {},
   "outputs": [
    {
     "data": {
      "text/plain": [
       "[<tf.Tensor 'gradients/Conv2D_grad/Conv2DBackpropFilter:0' shape=(5, 5, 1, 32) dtype=float32>,\n",
       " <tf.Tensor 'gradients/Conv2D_1_grad/Conv2DBackpropFilter:0' shape=(5, 5, 32, 64) dtype=float32>,\n",
       " <tf.Tensor 'add_3:0' shape=(3136, 1024) dtype=float32>,\n",
       " <tf.Tensor 'gradients/MatMul_1_grad/MatMul_1:0' shape=(1024, 10) dtype=float32>,\n",
       " <tf.Tensor 'gradients/BiasAdd_grad/BiasAddGrad:0' shape=(32,) dtype=float32>,\n",
       " <tf.Tensor 'gradients/BiasAdd_1_grad/BiasAddGrad:0' shape=(64,) dtype=float32>,\n",
       " <tf.Tensor 'gradients/Add_grad/Reshape_1:0' shape=(1024,) dtype=float32>,\n",
       " <tf.Tensor 'gradients/Add_1_grad/Reshape_1:0' shape=(10,) dtype=float32>]"
      ]
     },
     "execution_count": 261,
     "metadata": {},
     "output_type": "execute_result"
    }
   ],
   "source": [
    "grad_2"
   ]
  },
  {
   "cell_type": "code",
   "execution_count": 262,
   "metadata": {},
   "outputs": [],
   "source": [
    "\n",
    "optimizer = tf.train.AdamOptimizer(learning_rate= learning_rate)\n",
    "\n",
    "\n",
    "train_op = optimizer.apply_gradients(zip(grad_2, tvars))\n",
    "\n",
    "# Evaluate mdel \n",
    "correct_pred = tf.equal(tf.argmax(prediction, 1), tf.argmax(Y,1))\n",
    "accuracy = tf.reduce_mean(tf.cast(correct_pred, tf.float32))\n",
    "\n",
    "# Initialize the variables (i.e. assign their default value)\n",
    "init = tf.global_variables_initializer()"
   ]
  },
  {
   "cell_type": "code",
   "execution_count": 263,
   "metadata": {},
   "outputs": [],
   "source": [
    "writer = tf.summary.FileWriter(\"/home/sophia/Documents/math296/tmp/histogram_example\")\n",
    "\n",
    "summaries = tf.summary.merge_all()"
   ]
  },
  {
   "cell_type": "code",
   "execution_count": 264,
   "metadata": {},
   "outputs": [
    {
     "ename": "TypeError",
     "evalue": "'Operation' object is not callable",
     "output_type": "error",
     "traceback": [
      "\u001b[0;31m---------------------------------------------------------------------------\u001b[0m",
      "\u001b[0;31mTypeError\u001b[0m                                 Traceback (most recent call last)",
      "\u001b[0;32m<ipython-input-264-60d4a0a46dd2>\u001b[0m in \u001b[0;36m<module>\u001b[0;34m\u001b[0m\n\u001b[1;32m     17\u001b[0m             print(\"Step \"+ str(step) + \", Minibatch Loss= \" + \\\n\u001b[1;32m     18\u001b[0m                  \u001b[0;34m\"{:.4f}\"\u001b[0m\u001b[0;34m.\u001b[0m\u001b[0mformat\u001b[0m\u001b[0;34m(\u001b[0m\u001b[0mloss\u001b[0m\u001b[0;34m)\u001b[0m \u001b[0;34m+\u001b[0m \u001b[0;34m\", Training Accuracy=\"\u001b[0m \u001b[0;34m+\u001b[0m\u001b[0;31m \u001b[0m\u001b[0;31m\\\u001b[0m\u001b[0;34m\u001b[0m\u001b[0;34m\u001b[0m\u001b[0m\n\u001b[0;32m---> 19\u001b[0;31m                  \"{:.3f}\".format(acc))\n\u001b[0m\u001b[1;32m     20\u001b[0m     \u001b[0mvariable_dict\u001b[0m \u001b[0;34m=\u001b[0m \u001b[0;34m{\u001b[0m\u001b[0;34m}\u001b[0m\u001b[0;34m\u001b[0m\u001b[0;34m\u001b[0m\u001b[0m\n\u001b[1;32m     21\u001b[0m     \u001b[0;32mfor\u001b[0m \u001b[0mvar\u001b[0m \u001b[0;32min\u001b[0m \u001b[0mtf\u001b[0m\u001b[0;34m.\u001b[0m\u001b[0mtrainable_variables\u001b[0m\u001b[0;34m(\u001b[0m\u001b[0;34m)\u001b[0m\u001b[0;34m:\u001b[0m\u001b[0;34m\u001b[0m\u001b[0;34m\u001b[0m\u001b[0m\n",
      "\u001b[0;31mTypeError\u001b[0m: 'Operation' object is not callable"
     ]
    }
   ],
   "source": [
    "# Start training \n",
    "with tf.Session() as sess:\n",
    "    \n",
    "    \n",
    "    # Run the initializer \n",
    "    sess.run(init)\n",
    "    \n",
    "    for step in range(1, num_steps+1):\n",
    "        batch_x, batch_y = mnist.train.next_batch(batch_size)\n",
    "        # Run optimization op (backprop)\n",
    "        sess.run(train_op, feed_dict={X: batch_x, Y: batch_y, keep_prob: dropout})\n",
    "        if step% display_step == 0 or step == 1:\n",
    "            # Calculate batch loss and accuracy \n",
    "            loss, acc = sess.run([loss_op, accuracy], feed_dict={X:batch_x,\n",
    "                                                                 Y:batch_y,\n",
    "                                                                keep_prob: 1.0})\n",
    "            print(\"Step \"+ str(step) + \", Minibatch Loss= \" + \\\n",
    "                 \"{:.4f}\".format(loss) + \", Training Accuracy=\" + \\\n",
    "                 \"{:.3f}\".format(acc))\n",
    "    variable_dict = {}\n",
    "    for var in tf.trainable_variables():\n",
    "        print(var.name)\n",
    "        print(var.eval())\n",
    "        variable_dict[var.name] = var.eval()\n",
    "\n",
    "    print(\"Optimization Finished!\")\n",
    "    \n",
    "    # Calculate accuracy for 265 MNIST test images \n",
    "    print(\"Testing Accuracy: \", \\\n",
    "         sess.run(accuracy, feed_dict={X: mnist.test.images[:256],\n",
    "                                       Y: mnist.test.labels[:256],\n",
    "                                       keep_prob: 1.0}))\n",
    "        "
   ]
  },
  {
   "cell_type": "code",
   "execution_count": 266,
   "metadata": {},
   "outputs": [],
   "source": [
    "for key,val in variable_dict.items():\n",
    "    print (key)"
   ]
  },
  {
   "cell_type": "code",
   "execution_count": null,
   "metadata": {},
   "outputs": [],
   "source": []
  }
 ],
 "metadata": {
  "kernelspec": {
   "display_name": "Python 3",
   "language": "python",
   "name": "python3"
  },
  "language_info": {
   "codemirror_mode": {
    "name": "ipython",
    "version": 3
   },
   "file_extension": ".py",
   "mimetype": "text/x-python",
   "name": "python",
   "nbconvert_exporter": "python",
   "pygments_lexer": "ipython3",
   "version": "3.6.7"
  }
 },
 "nbformat": 4,
 "nbformat_minor": 2
}
